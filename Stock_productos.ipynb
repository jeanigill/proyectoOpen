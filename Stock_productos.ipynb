{
  "nbformat": 4,
  "nbformat_minor": 0,
  "metadata": {
    "colab": {
      "name": "Intento2.ipynb",
      "provenance": [],
      "include_colab_link": true
    },
    "kernelspec": {
      "name": "python3",
      "display_name": "Python 3"
    },
    "language_info": {
      "name": "python"
    }
  },
  "cells": [
    {
      "cell_type": "markdown",
      "metadata": {
        "id": "view-in-github",
        "colab_type": "text"
      },
      "source": [
        "<a href=\"https://colab.research.google.com/github/jeanigill/proyectoOpen/blob/main/Stock_productos.ipynb\" target=\"_parent\"><img src=\"https://colab.research.google.com/assets/colab-badge.svg\" alt=\"Open In Colab\"/></a>"
      ]
    },
    {
      "cell_type": "code",
      "metadata": {
        "id": "ZKibIuxj3ZUY"
      },
      "source": [
        "#importamos las librerias a utilizar\n",
        "import pandas as pd\n",
        "import numpy as np\n",
        "import matplotlib.pyplot as plt\n",
        "import seaborn as sns\n",
        "%matplotlib inline\n",
        "import re\n",
        "import time\n",
        "from datetime import datetime\n",
        "import matplotlib.dates as mdates\n",
        "import matplotlib.ticker as ticker\n",
        "from urllib.request import urlopen\n",
        "from bs4 import BeautifulSoup\n",
        "import requests"
      ],
      "execution_count": 20,
      "outputs": []
    },
    {
      "cell_type": "code",
      "metadata": {
        "id": "iyZ5YTLl3WsN"
      },
      "source": [
        "no_pages = 4"
      ],
      "execution_count": 21,
      "outputs": []
    },
    {
      "cell_type": "code",
      "metadata": {
        "id": "326BIBBE9IHc"
      },
      "source": [
        "# url del producto\n",
        "URL = 'https://www.stock.com.py/search.aspx?searchterms=cafe&pageindex='\n",
        "# request header\n",
        "# para que stock no nos detecte como un robot\n",
        "headers = {\n",
        "'authority': 'www.stock.com.py',\n",
        "'pragma': 'no-cache',\n",
        "'cache-control': 'no-cache',\n",
        "'dnt': '1',\n",
        "'upgrade-insecure-requests': '1',\n",
        "'user-agent': 'User-Agent\":\"Mozilla/5.0 (Windows NT 10.0; Win64; x64; rv:66.0) Gecko/20100101 Firefox/66.0',\n",
        "'accept': 'text/html,application/xhtml+xml,application/xml;q=0.9,image/webp,image/apng,*/*;q=0.8,application/signed-exchange;v=b3;q=0.9',\n",
        "'sec-fetch-site': 'none',\n",
        "'sec-fetch-mode': 'navigate',\n",
        "'sec-fetch-dest': 'document',\n",
        "'accept-language': 'en-GB,en-US;q=0.9,en;q=0.8',\n",
        "}"
      ],
      "execution_count": 22,
      "outputs": []
    },
    {
      "cell_type": "code",
      "metadata": {
        "id": "LltvfVuB9La5"
      },
      "source": [
        "# descargar la pagina\n",
        "page = requests.get(URL, headers = headers)\n",
        "# leer el contenido\n",
        "soup = BeautifulSoup(page.content, 'html.parser')"
      ],
      "execution_count": 23,
      "outputs": []
    },
    {
      "cell_type": "code",
      "metadata": {
        "id": "BRfnBrgb3ShW"
      },
      "source": [
        "def get_data(pageNo):\n",
        "    headers = {\n",
        "    'authority': 'www.stock.com.py',\n",
        "    'pragma': 'no-cache',\n",
        "    'cache-control': 'no-cache',\n",
        "    'dnt': '1',\n",
        "    'upgrade-insecure-requests': '1',\n",
        "    'user-agent': 'User-Agent\":\"Mozilla/5.0 (Windows NT 10.0; Win64; x64; rv:66.0) Gecko/20100101 Firefox/66.0',\n",
        "    'accept': 'text/html,application/xhtml+xml,application/xml;q=0.9,image/webp,image/apng,*/*;q=0.8,application/signed-exchange;v=b3;q=0.9',\n",
        "    'sec-fetch-site': 'none',\n",
        "    'sec-fetch-mode': 'navigate',\n",
        "    'sec-fetch-dest': 'document',\n",
        "    'accept-language': 'en-GB,en-US;q=0.9,en;q=0.8',\n",
        "    }\n",
        "    stock = requests.get('https://www.stock.com.py/search.aspx?searchterms=cafe&pageindex='+str(pageNo), headers=headers)\n",
        "    content = stock.content\n",
        "    soup = BeautifulSoup(content)\n",
        "    alls = []\n",
        "    for d in soup.findAll('div', attrs={'class':'col-lg-2 col-md-3 col-sm-4 col-xs-6 producto'}):\n",
        "        #print(d)\n",
        "        name = d.find('a', attrs={'class':'product-title-link'})\n",
        "        #print(n[0]['alt'])\n",
        "        price = d.find('span', attrs={'class':'price-label'})\n",
        "\n",
        "        all1=[]\n",
        "\n",
        "        if name is not None:\n",
        "            #print(n[0]['alt'])\n",
        "            all1.append(name.text)\n",
        "        else:\n",
        "            all1.append('0')  \n",
        "\n",
        "        if price is not None:\n",
        "            #print(price.text)\n",
        "            all1.append(price.text)\n",
        "        else:\n",
        "            all1.append('0')\n",
        "        alls.append(all1)\n",
        "    return alls"
      ],
      "execution_count": 24,
      "outputs": []
    },
    {
      "cell_type": "code",
      "metadata": {
        "id": "usg0u9q985aK"
      },
      "source": [
        "results = []\n",
        "for i in range(1, no_pages+1):\n",
        "    results.append(get_data(i))\n",
        "flatten = lambda l: [item for sublist in l for item in sublist]\n",
        "df = pd.DataFrame(flatten(results),columns=['Name', 'Price'])\n",
        "df.to_csv('stock_products.csv', index=False, encoding='utf-8')"
      ],
      "execution_count": 25,
      "outputs": []
    },
    {
      "cell_type": "code",
      "metadata": {
        "colab": {
          "base_uri": "https://localhost:8080/",
          "height": 419
        },
        "id": "ST5IPWPsChPY",
        "outputId": "21114e78-aa16-46e1-b114-a5124c4d1d5d"
      },
      "source": [
        "df"
      ],
      "execution_count": 26,
      "outputs": [
        {
          "output_type": "execute_result",
          "data": {
            "text/html": [
              "<div>\n",
              "<style scoped>\n",
              "    .dataframe tbody tr th:only-of-type {\n",
              "        vertical-align: middle;\n",
              "    }\n",
              "\n",
              "    .dataframe tbody tr th {\n",
              "        vertical-align: top;\n",
              "    }\n",
              "\n",
              "    .dataframe thead th {\n",
              "        text-align: right;\n",
              "    }\n",
              "</style>\n",
              "<table border=\"1\" class=\"dataframe\">\n",
              "  <thead>\n",
              "    <tr style=\"text-align: right;\">\n",
              "      <th></th>\n",
              "      <th>Name</th>\n",
              "      <th>Price</th>\n",
              "    </tr>\n",
              "  </thead>\n",
              "  <tbody>\n",
              "    <tr>\n",
              "      <th>0</th>\n",
              "      <td>CAFE PELE CAFE INSTANTANEO 200 GR</td>\n",
              "      <td>25.500</td>\n",
              "    </tr>\n",
              "    <tr>\n",
              "      <th>1</th>\n",
              "      <td>CAFE PELE CAFE INSTANTANEO 100 GR</td>\n",
              "      <td>17.100</td>\n",
              "    </tr>\n",
              "    <tr>\n",
              "      <th>2</th>\n",
              "      <td>CAFE PELE CAFE INSTANTANEO 50 GR</td>\n",
              "      <td>6.750</td>\n",
              "    </tr>\n",
              "    <tr>\n",
              "      <th>3</th>\n",
              "      <td>CAFE PELE CAFE INSTANTANEO 100 GR</td>\n",
              "      <td>15.900</td>\n",
              "    </tr>\n",
              "    <tr>\n",
              "      <th>4</th>\n",
              "      <td>CAFE PELE CAFE INSTANTANEO DE 50 GR</td>\n",
              "      <td>8.450</td>\n",
              "    </tr>\n",
              "    <tr>\n",
              "      <th>...</th>\n",
              "      <td>...</td>\n",
              "      <td>...</td>\n",
              "    </tr>\n",
              "    <tr>\n",
              "      <th>90</th>\n",
              "      <td>CAFE TORRADO C/AZUCAR MOLIDO 125GR CABRALES PAQ</td>\n",
              "      <td>13.000</td>\n",
              "    </tr>\n",
              "    <tr>\n",
              "      <th>91</th>\n",
              "      <td>CAFE IPERESPRESSO TOSTADURA 140.7GR ILLY LATA</td>\n",
              "      <td>155.000</td>\n",
              "    </tr>\n",
              "    <tr>\n",
              "      <th>92</th>\n",
              "      <td>CAFE TORRADO MOLIDO 250GR NORCAFE PAQ</td>\n",
              "      <td>11.900</td>\n",
              "    </tr>\n",
              "    <tr>\n",
              "      <th>93</th>\n",
              "      <td>FILTRO P/CAFE N/100 30UND MELITTA CJA</td>\n",
              "      <td>5.400</td>\n",
              "    </tr>\n",
              "    <tr>\n",
              "      <th>94</th>\n",
              "      <td>CAFE TORRADO C/AZUCAR MOLIDO 250GR CABRALES PAQ</td>\n",
              "      <td>24.600</td>\n",
              "    </tr>\n",
              "  </tbody>\n",
              "</table>\n",
              "<p>95 rows × 2 columns</p>\n",
              "</div>"
            ],
            "text/plain": [
              "                                               Name      Price\n",
              "0                 CAFE PELE CAFE INSTANTANEO 200 GR     25.500\n",
              "1                 CAFE PELE CAFE INSTANTANEO 100 GR     17.100\n",
              "2                  CAFE PELE CAFE INSTANTANEO 50 GR      6.750\n",
              "3                 CAFE PELE CAFE INSTANTANEO 100 GR     15.900\n",
              "4               CAFE PELE CAFE INSTANTANEO DE 50 GR      8.450\n",
              "..                                              ...        ...\n",
              "90  CAFE TORRADO C/AZUCAR MOLIDO 125GR CABRALES PAQ     13.000\n",
              "91    CAFE IPERESPRESSO TOSTADURA 140.7GR ILLY LATA    155.000\n",
              "92            CAFE TORRADO MOLIDO 250GR NORCAFE PAQ     11.900\n",
              "93            FILTRO P/CAFE N/100 30UND MELITTA CJA      5.400\n",
              "94  CAFE TORRADO C/AZUCAR MOLIDO 250GR CABRALES PAQ     24.600\n",
              "\n",
              "[95 rows x 2 columns]"
            ]
          },
          "metadata": {
            "tags": []
          },
          "execution_count": 26
        }
      ]
    }
  ]
}